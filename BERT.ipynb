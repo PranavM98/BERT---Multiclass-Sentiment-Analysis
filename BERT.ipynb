{
  "nbformat": 4,
  "nbformat_minor": 0,
  "metadata": {
    "kernelspec": {
      "display_name": "Python 3",
      "language": "python",
      "name": "python3"
    },
    "language_info": {
      "codemirror_mode": {
        "name": "ipython",
        "version": 3
      },
      "file_extension": ".py",
      "mimetype": "text/x-python",
      "name": "python",
      "nbconvert_exporter": "python",
      "pygments_lexer": "ipython3",
      "version": "3.7.4"
    },
    "colab": {
      "name": "BERT.ipynb",
      "provenance": [],
      "include_colab_link": true
    }
  },
  "cells": [
    {
      "cell_type": "markdown",
      "metadata": {
        "id": "view-in-github",
        "colab_type": "text"
      },
      "source": [
        "<a href=\"https://colab.research.google.com/github/PranavM98/BERT---Multiclass-Sentiment-Analysis/blob/main/BERT.ipynb\" target=\"_parent\"><img src=\"https://colab.research.google.com/assets/colab-badge.svg\" alt=\"Open In Colab\"/></a>"
      ]
    },
    {
      "cell_type": "code",
      "metadata": {
        "id": "um7qT7HYYkiY"
      },
      "source": [
        "!pip install torch"
      ],
      "execution_count": null,
      "outputs": []
    },
    {
      "cell_type": "code",
      "metadata": {
        "id": "J6QWjhdeYkid",
        "outputId": "1e036486-5ed9-4fd6-da7d-1cb571383499"
      },
      "source": [
        "import torch \n",
        "import pandas as pd\n",
        "from tqdm.notebook import tqdm"
      ],
      "execution_count": null,
      "outputs": [
        {
          "output_type": "stream",
          "text": [
            "Collecting torch\n",
            "\u001b[?25l  Downloading https://files.pythonhosted.org/packages/fe/cc/544a31511a36e0ace9e7c19b9cccc2385ff37b1f5d9d341bd4e1728a8a6f/torch-1.7.0-cp37-none-macosx_10_9_x86_64.whl (108.0MB)\n",
            "\u001b[K     |████████████████████████████████| 108.0MB 4.9MB/s eta 0:00:01    |█████▌                          | 18.5MB 1.9MB/s eta 0:00:47\n",
            "\u001b[?25hRequirement already satisfied: numpy in /Users/pranavmanjunath/opt/anaconda3/lib/python3.7/site-packages (from torch) (1.17.2)\n",
            "Collecting dataclasses (from torch)\n",
            "  Downloading https://files.pythonhosted.org/packages/26/2f/1095cdc2868052dd1e64520f7c0d5c8c550ad297e944e641dbf1ffbb9a5d/dataclasses-0.6-py3-none-any.whl\n",
            "Requirement already satisfied: future in /Users/pranavmanjunath/opt/anaconda3/lib/python3.7/site-packages (from torch) (0.16.0)\n",
            "Collecting typing-extensions (from torch)\n",
            "  Downloading https://files.pythonhosted.org/packages/60/7a/e881b5abb54db0e6e671ab088d079c57ce54e8a01a3ca443f561ccadb37e/typing_extensions-3.7.4.3-py3-none-any.whl\n",
            "Installing collected packages: dataclasses, typing-extensions, torch\n",
            "Successfully installed dataclasses-0.6 torch-1.7.0 typing-extensions-3.7.4.3\n"
          ],
          "name": "stdout"
        }
      ]
    },
    {
      "cell_type": "code",
      "metadata": {
        "id": "6O9dt-YPYkih"
      },
      "source": [
        "df=pd.read_csv('smile-annotations-final.csv',\n",
        "              names=['id','text','category'])"
      ],
      "execution_count": null,
      "outputs": []
    },
    {
      "cell_type": "code",
      "metadata": {
        "id": "_zdsLWXHYkik",
        "outputId": "c6c69bae-e44e-4368-c71f-302c33323fbc"
      },
      "source": [
        "df.set_index('id',inplace=True)"
      ],
      "execution_count": null,
      "outputs": [
        {
          "output_type": "execute_result",
          "data": {
            "text/html": [
              "<div>\n",
              "<style scoped>\n",
              "    .dataframe tbody tr th:only-of-type {\n",
              "        vertical-align: middle;\n",
              "    }\n",
              "\n",
              "    .dataframe tbody tr th {\n",
              "        vertical-align: top;\n",
              "    }\n",
              "\n",
              "    .dataframe thead th {\n",
              "        text-align: right;\n",
              "    }\n",
              "</style>\n",
              "<table border=\"1\" class=\"dataframe\">\n",
              "  <thead>\n",
              "    <tr style=\"text-align: right;\">\n",
              "      <th></th>\n",
              "      <th>text</th>\n",
              "      <th>category</th>\n",
              "    </tr>\n",
              "    <tr>\n",
              "      <th>id</th>\n",
              "      <th></th>\n",
              "      <th></th>\n",
              "    </tr>\n",
              "  </thead>\n",
              "  <tbody>\n",
              "    <tr>\n",
              "      <td>611857364396965889</td>\n",
              "      <td>@aandraous @britishmuseum @AndrewsAntonio Merc...</td>\n",
              "      <td>nocode</td>\n",
              "    </tr>\n",
              "    <tr>\n",
              "      <td>614484565059596288</td>\n",
              "      <td>Dorian Gray with Rainbow Scarf #LoveWins (from...</td>\n",
              "      <td>happy</td>\n",
              "    </tr>\n",
              "    <tr>\n",
              "      <td>614746522043973632</td>\n",
              "      <td>@SelectShowcase @Tate_StIves ... Replace with ...</td>\n",
              "      <td>happy</td>\n",
              "    </tr>\n",
              "    <tr>\n",
              "      <td>614877582664835073</td>\n",
              "      <td>@Sofabsports thank you for following me back. ...</td>\n",
              "      <td>happy</td>\n",
              "    </tr>\n",
              "    <tr>\n",
              "      <td>611932373039644672</td>\n",
              "      <td>@britishmuseum @TudorHistory What a beautiful ...</td>\n",
              "      <td>happy</td>\n",
              "    </tr>\n",
              "    <tr>\n",
              "      <td>...</td>\n",
              "      <td>...</td>\n",
              "      <td>...</td>\n",
              "    </tr>\n",
              "    <tr>\n",
              "      <td>613678555935973376</td>\n",
              "      <td>MT @AliHaggett: Looking forward to our public ...</td>\n",
              "      <td>happy</td>\n",
              "    </tr>\n",
              "    <tr>\n",
              "      <td>613294681225621504</td>\n",
              "      <td>@britishmuseum Upper arm guard?</td>\n",
              "      <td>nocode</td>\n",
              "    </tr>\n",
              "    <tr>\n",
              "      <td>615246897670922240</td>\n",
              "      <td>@MrStuchbery @britishmuseum Mesmerising.</td>\n",
              "      <td>happy</td>\n",
              "    </tr>\n",
              "    <tr>\n",
              "      <td>613016084371914753</td>\n",
              "      <td>@NationalGallery The 2nd GENOCIDE against #Bia...</td>\n",
              "      <td>not-relevant</td>\n",
              "    </tr>\n",
              "    <tr>\n",
              "      <td>611566876762640384</td>\n",
              "      <td>@britishmuseum Experience #battlewaterloo from...</td>\n",
              "      <td>nocode</td>\n",
              "    </tr>\n",
              "  </tbody>\n",
              "</table>\n",
              "<p>3085 rows × 2 columns</p>\n",
              "</div>"
            ],
            "text/plain": [
              "                                                                 text  \\\n",
              "id                                                                      \n",
              "611857364396965889  @aandraous @britishmuseum @AndrewsAntonio Merc...   \n",
              "614484565059596288  Dorian Gray with Rainbow Scarf #LoveWins (from...   \n",
              "614746522043973632  @SelectShowcase @Tate_StIves ... Replace with ...   \n",
              "614877582664835073  @Sofabsports thank you for following me back. ...   \n",
              "611932373039644672  @britishmuseum @TudorHistory What a beautiful ...   \n",
              "...                                                               ...   \n",
              "613678555935973376  MT @AliHaggett: Looking forward to our public ...   \n",
              "613294681225621504                    @britishmuseum Upper arm guard?   \n",
              "615246897670922240           @MrStuchbery @britishmuseum Mesmerising.   \n",
              "613016084371914753  @NationalGallery The 2nd GENOCIDE against #Bia...   \n",
              "611566876762640384  @britishmuseum Experience #battlewaterloo from...   \n",
              "\n",
              "                        category  \n",
              "id                                \n",
              "611857364396965889        nocode  \n",
              "614484565059596288         happy  \n",
              "614746522043973632         happy  \n",
              "614877582664835073         happy  \n",
              "611932373039644672         happy  \n",
              "...                          ...  \n",
              "613678555935973376         happy  \n",
              "613294681225621504        nocode  \n",
              "615246897670922240         happy  \n",
              "613016084371914753  not-relevant  \n",
              "611566876762640384        nocode  \n",
              "\n",
              "[3085 rows x 2 columns]"
            ]
          },
          "metadata": {
            "tags": []
          },
          "execution_count": 6
        }
      ]
    },
    {
      "cell_type": "code",
      "metadata": {
        "id": "ZKuACggQYkio",
        "outputId": "897964d8-b78e-48f3-cf18-f593fdfaec6c"
      },
      "source": [
        "df.category.value_counts()"
      ],
      "execution_count": null,
      "outputs": [
        {
          "output_type": "execute_result",
          "data": {
            "text/plain": [
              "nocode               1572\n",
              "happy                1137\n",
              "not-relevant          214\n",
              "angry                  57\n",
              "surprise               35\n",
              "sad                    32\n",
              "happy|surprise         11\n",
              "happy|sad               9\n",
              "disgust|angry           7\n",
              "disgust                 6\n",
              "sad|disgust             2\n",
              "sad|angry               2\n",
              "sad|disgust|angry       1\n",
              "Name: category, dtype: int64"
            ]
          },
          "metadata": {
            "tags": []
          },
          "execution_count": 7
        }
      ]
    },
    {
      "cell_type": "code",
      "metadata": {
        "id": "S82wmVh8Ykir"
      },
      "source": [
        "df=df[df['category']!='nocode']"
      ],
      "execution_count": null,
      "outputs": []
    },
    {
      "cell_type": "code",
      "metadata": {
        "id": "jsC9v3ZUYkiv"
      },
      "source": [
        "df=df[~df['category'].str.contains('\\|')]"
      ],
      "execution_count": null,
      "outputs": []
    },
    {
      "cell_type": "code",
      "metadata": {
        "id": "wq-f58PEYkiy",
        "outputId": "b5c98d3c-bf94-42ad-bd9d-3f7ce83cf86b"
      },
      "source": [
        "df.category.value_counts()"
      ],
      "execution_count": null,
      "outputs": [
        {
          "output_type": "execute_result",
          "data": {
            "text/plain": [
              "happy           1137\n",
              "not-relevant     214\n",
              "angry             57\n",
              "surprise          35\n",
              "sad               32\n",
              "disgust            6\n",
              "Name: category, dtype: int64"
            ]
          },
          "metadata": {
            "tags": []
          },
          "execution_count": 12
        }
      ]
    },
    {
      "cell_type": "code",
      "metadata": {
        "id": "JwcVtCXoYki1"
      },
      "source": [
        "possible_labels=df.category.unique()"
      ],
      "execution_count": null,
      "outputs": []
    },
    {
      "cell_type": "code",
      "metadata": {
        "id": "usYF7chjYki4"
      },
      "source": [
        "label_dict={}\n",
        "for index,possible_label in enumerate(possible_labels):\n",
        "    label_dict[possible_label] = index"
      ],
      "execution_count": null,
      "outputs": []
    },
    {
      "cell_type": "code",
      "metadata": {
        "id": "Zzvj70ZGYki6",
        "outputId": "72ccaee3-be7d-44ab-9c96-27650f5c4912"
      },
      "source": [
        "label_dict"
      ],
      "execution_count": null,
      "outputs": [
        {
          "output_type": "execute_result",
          "data": {
            "text/plain": [
              "{'happy': 0,\n",
              " 'not-relevant': 1,\n",
              " 'angry': 2,\n",
              " 'disgust': 3,\n",
              " 'sad': 4,\n",
              " 'surprise': 5}"
            ]
          },
          "metadata": {
            "tags": []
          },
          "execution_count": 16
        }
      ]
    },
    {
      "cell_type": "code",
      "metadata": {
        "id": "gAX8mU6sYki8",
        "outputId": "f73fa8cb-71f8-4b53-af5a-34aff7ab4f89"
      },
      "source": [
        "df['label']=df.category.replace(label_dict)\n",
        "df.head()"
      ],
      "execution_count": null,
      "outputs": [
        {
          "output_type": "execute_result",
          "data": {
            "text/html": [
              "<div>\n",
              "<style scoped>\n",
              "    .dataframe tbody tr th:only-of-type {\n",
              "        vertical-align: middle;\n",
              "    }\n",
              "\n",
              "    .dataframe tbody tr th {\n",
              "        vertical-align: top;\n",
              "    }\n",
              "\n",
              "    .dataframe thead th {\n",
              "        text-align: right;\n",
              "    }\n",
              "</style>\n",
              "<table border=\"1\" class=\"dataframe\">\n",
              "  <thead>\n",
              "    <tr style=\"text-align: right;\">\n",
              "      <th></th>\n",
              "      <th>id</th>\n",
              "      <th>text</th>\n",
              "      <th>category</th>\n",
              "      <th>label</th>\n",
              "    </tr>\n",
              "  </thead>\n",
              "  <tbody>\n",
              "    <tr>\n",
              "      <td>1</td>\n",
              "      <td>614484565059596288</td>\n",
              "      <td>Dorian Gray with Rainbow Scarf #LoveWins (from...</td>\n",
              "      <td>happy</td>\n",
              "      <td>0</td>\n",
              "    </tr>\n",
              "    <tr>\n",
              "      <td>2</td>\n",
              "      <td>614746522043973632</td>\n",
              "      <td>@SelectShowcase @Tate_StIves ... Replace with ...</td>\n",
              "      <td>happy</td>\n",
              "      <td>0</td>\n",
              "    </tr>\n",
              "    <tr>\n",
              "      <td>3</td>\n",
              "      <td>614877582664835073</td>\n",
              "      <td>@Sofabsports thank you for following me back. ...</td>\n",
              "      <td>happy</td>\n",
              "      <td>0</td>\n",
              "    </tr>\n",
              "    <tr>\n",
              "      <td>4</td>\n",
              "      <td>611932373039644672</td>\n",
              "      <td>@britishmuseum @TudorHistory What a beautiful ...</td>\n",
              "      <td>happy</td>\n",
              "      <td>0</td>\n",
              "    </tr>\n",
              "    <tr>\n",
              "      <td>5</td>\n",
              "      <td>611570404268883969</td>\n",
              "      <td>@NationalGallery @ThePoldarkian I have always ...</td>\n",
              "      <td>happy</td>\n",
              "      <td>0</td>\n",
              "    </tr>\n",
              "  </tbody>\n",
              "</table>\n",
              "</div>"
            ],
            "text/plain": [
              "                   id                                               text  \\\n",
              "1  614484565059596288  Dorian Gray with Rainbow Scarf #LoveWins (from...   \n",
              "2  614746522043973632  @SelectShowcase @Tate_StIves ... Replace with ...   \n",
              "3  614877582664835073  @Sofabsports thank you for following me back. ...   \n",
              "4  611932373039644672  @britishmuseum @TudorHistory What a beautiful ...   \n",
              "5  611570404268883969  @NationalGallery @ThePoldarkian I have always ...   \n",
              "\n",
              "  category  label  \n",
              "1    happy      0  \n",
              "2    happy      0  \n",
              "3    happy      0  \n",
              "4    happy      0  \n",
              "5    happy      0  "
            ]
          },
          "metadata": {
            "tags": []
          },
          "execution_count": 17
        }
      ]
    },
    {
      "cell_type": "code",
      "metadata": {
        "id": "sU2IrhQ2Yki-"
      },
      "source": [
        "from sklearn.model_selection import train_test_split\n",
        "X_train,X_val,y_train,y_val=train_test_split(\n",
        "                df.index.values,\n",
        "                df.label.values,\n",
        "                test_size=0.15,\n",
        "                stratify=df.label.values\n",
        ")"
      ],
      "execution_count": null,
      "outputs": []
    },
    {
      "cell_type": "code",
      "metadata": {
        "id": "q4l6zx29YkjA"
      },
      "source": [
        "df['data_type']=['not_set']*df.shape[0]"
      ],
      "execution_count": null,
      "outputs": []
    },
    {
      "cell_type": "code",
      "metadata": {
        "id": "rlJ0y7FgYkjC"
      },
      "source": [
        "df.loc[X_train,'data_type']='train'\n",
        "df.loc[X_val,'data_type']='validation'\n",
        "\n"
      ],
      "execution_count": null,
      "outputs": []
    },
    {
      "cell_type": "code",
      "metadata": {
        "id": "GUEFbtl9YkjE",
        "outputId": "fce4ae4c-53ce-436a-d646-767f48458e43"
      },
      "source": [
        "df"
      ],
      "execution_count": null,
      "outputs": [
        {
          "output_type": "execute_result",
          "data": {
            "text/html": [
              "<div>\n",
              "<style scoped>\n",
              "    .dataframe tbody tr th:only-of-type {\n",
              "        vertical-align: middle;\n",
              "    }\n",
              "\n",
              "    .dataframe tbody tr th {\n",
              "        vertical-align: top;\n",
              "    }\n",
              "\n",
              "    .dataframe thead th {\n",
              "        text-align: right;\n",
              "    }\n",
              "</style>\n",
              "<table border=\"1\" class=\"dataframe\">\n",
              "  <thead>\n",
              "    <tr style=\"text-align: right;\">\n",
              "      <th></th>\n",
              "      <th>id</th>\n",
              "      <th>text</th>\n",
              "      <th>category</th>\n",
              "      <th>label</th>\n",
              "      <th>data_type</th>\n",
              "    </tr>\n",
              "  </thead>\n",
              "  <tbody>\n",
              "    <tr>\n",
              "      <td>1</td>\n",
              "      <td>614484565059596288</td>\n",
              "      <td>Dorian Gray with Rainbow Scarf #LoveWins (from...</td>\n",
              "      <td>happy</td>\n",
              "      <td>0</td>\n",
              "      <td>train</td>\n",
              "    </tr>\n",
              "    <tr>\n",
              "      <td>2</td>\n",
              "      <td>614746522043973632</td>\n",
              "      <td>@SelectShowcase @Tate_StIves ... Replace with ...</td>\n",
              "      <td>happy</td>\n",
              "      <td>0</td>\n",
              "      <td>train</td>\n",
              "    </tr>\n",
              "    <tr>\n",
              "      <td>3</td>\n",
              "      <td>614877582664835073</td>\n",
              "      <td>@Sofabsports thank you for following me back. ...</td>\n",
              "      <td>happy</td>\n",
              "      <td>0</td>\n",
              "      <td>train</td>\n",
              "    </tr>\n",
              "    <tr>\n",
              "      <td>4</td>\n",
              "      <td>611932373039644672</td>\n",
              "      <td>@britishmuseum @TudorHistory What a beautiful ...</td>\n",
              "      <td>happy</td>\n",
              "      <td>0</td>\n",
              "      <td>train</td>\n",
              "    </tr>\n",
              "    <tr>\n",
              "      <td>5</td>\n",
              "      <td>611570404268883969</td>\n",
              "      <td>@NationalGallery @ThePoldarkian I have always ...</td>\n",
              "      <td>happy</td>\n",
              "      <td>0</td>\n",
              "      <td>validation</td>\n",
              "    </tr>\n",
              "    <tr>\n",
              "      <td>...</td>\n",
              "      <td>...</td>\n",
              "      <td>...</td>\n",
              "      <td>...</td>\n",
              "      <td>...</td>\n",
              "      <td>...</td>\n",
              "    </tr>\n",
              "    <tr>\n",
              "      <td>3078</td>\n",
              "      <td>611258135270060033</td>\n",
              "      <td>@_TheWhitechapel @Campaignforwool @SlowTextile...</td>\n",
              "      <td>not-relevant</td>\n",
              "      <td>1</td>\n",
              "      <td>train</td>\n",
              "    </tr>\n",
              "    <tr>\n",
              "      <td>3079</td>\n",
              "      <td>612214539468279808</td>\n",
              "      <td>“@britishmuseum: Thanks for ranking us #1 in @...</td>\n",
              "      <td>happy</td>\n",
              "      <td>0</td>\n",
              "      <td>train</td>\n",
              "    </tr>\n",
              "    <tr>\n",
              "      <td>3080</td>\n",
              "      <td>613678555935973376</td>\n",
              "      <td>MT @AliHaggett: Looking forward to our public ...</td>\n",
              "      <td>happy</td>\n",
              "      <td>0</td>\n",
              "      <td>train</td>\n",
              "    </tr>\n",
              "    <tr>\n",
              "      <td>3082</td>\n",
              "      <td>615246897670922240</td>\n",
              "      <td>@MrStuchbery @britishmuseum Mesmerising.</td>\n",
              "      <td>happy</td>\n",
              "      <td>0</td>\n",
              "      <td>validation</td>\n",
              "    </tr>\n",
              "    <tr>\n",
              "      <td>3083</td>\n",
              "      <td>613016084371914753</td>\n",
              "      <td>@NationalGallery The 2nd GENOCIDE against #Bia...</td>\n",
              "      <td>not-relevant</td>\n",
              "      <td>1</td>\n",
              "      <td>train</td>\n",
              "    </tr>\n",
              "  </tbody>\n",
              "</table>\n",
              "<p>1481 rows × 5 columns</p>\n",
              "</div>"
            ],
            "text/plain": [
              "                      id                                               text  \\\n",
              "1     614484565059596288  Dorian Gray with Rainbow Scarf #LoveWins (from...   \n",
              "2     614746522043973632  @SelectShowcase @Tate_StIves ... Replace with ...   \n",
              "3     614877582664835073  @Sofabsports thank you for following me back. ...   \n",
              "4     611932373039644672  @britishmuseum @TudorHistory What a beautiful ...   \n",
              "5     611570404268883969  @NationalGallery @ThePoldarkian I have always ...   \n",
              "...                  ...                                                ...   \n",
              "3078  611258135270060033  @_TheWhitechapel @Campaignforwool @SlowTextile...   \n",
              "3079  612214539468279808  “@britishmuseum: Thanks for ranking us #1 in @...   \n",
              "3080  613678555935973376  MT @AliHaggett: Looking forward to our public ...   \n",
              "3082  615246897670922240           @MrStuchbery @britishmuseum Mesmerising.   \n",
              "3083  613016084371914753  @NationalGallery The 2nd GENOCIDE against #Bia...   \n",
              "\n",
              "          category  label   data_type  \n",
              "1            happy      0       train  \n",
              "2            happy      0       train  \n",
              "3            happy      0       train  \n",
              "4            happy      0       train  \n",
              "5            happy      0  validation  \n",
              "...            ...    ...         ...  \n",
              "3078  not-relevant      1       train  \n",
              "3079         happy      0       train  \n",
              "3080         happy      0       train  \n",
              "3082         happy      0  validation  \n",
              "3083  not-relevant      1       train  \n",
              "\n",
              "[1481 rows x 5 columns]"
            ]
          },
          "metadata": {
            "tags": []
          },
          "execution_count": 21
        }
      ]
    },
    {
      "cell_type": "code",
      "metadata": {
        "scrolled": true,
        "id": "lZ6NThpBYkjF",
        "outputId": "3c3b4e5c-99ba-44a9-c2c0-6ce0abf85241"
      },
      "source": [
        "!pip install transformers"
      ],
      "execution_count": null,
      "outputs": [
        {
          "output_type": "stream",
          "text": [
            "Collecting transformers\n",
            "\u001b[?25l  Downloading https://files.pythonhosted.org/packages/2c/4e/4f1ede0fd7a36278844a277f8d53c21f88f37f3754abf76a5d6224f76d4a/transformers-3.4.0-py3-none-any.whl (1.3MB)\n",
            "\u001b[K     |████████████████████████████████| 1.3MB 1.1MB/s eta 0:00:01\n",
            "\u001b[?25hCollecting sacremoses (from transformers)\n",
            "\u001b[?25l  Downloading https://files.pythonhosted.org/packages/7d/34/09d19aff26edcc8eb2a01bed8e98f13a1537005d31e95233fd48216eed10/sacremoses-0.0.43.tar.gz (883kB)\n",
            "\u001b[K     |████████████████████████████████| 890kB 7.8MB/s eta 0:00:01\n",
            "\u001b[?25hCollecting regex!=2019.12.17 (from transformers)\n",
            "\u001b[?25l  Downloading https://files.pythonhosted.org/packages/fb/ef/8880ca0f2bc2e51a39aacf62a81947971aea42b3b54ca58111b5a5ba6e05/regex-2020.10.28.tar.gz (694kB)\n",
            "\u001b[K     |████████████████████████████████| 696kB 9.5MB/s eta 0:00:01\n",
            "\u001b[?25hCollecting tokenizers==0.9.2 (from transformers)\n",
            "\u001b[?25l  Downloading https://files.pythonhosted.org/packages/88/6b/0b1bb8a176ea05e53ecce09441780af99e919b2f83626ac8a06ce8f5a349/tokenizers-0.9.2-cp37-cp37m-macosx_10_11_x86_64.whl (2.0MB)\n",
            "\u001b[K     |████████████████████████████████| 2.0MB 4.8MB/s eta 0:00:01\n",
            "\u001b[?25hRequirement already satisfied: packaging in /Users/pranavmanjunath/opt/anaconda3/lib/python3.7/site-packages (from transformers) (19.2)\n",
            "Requirement already satisfied: filelock in /Users/pranavmanjunath/opt/anaconda3/lib/python3.7/site-packages (from transformers) (3.0.12)\n",
            "Requirement already satisfied: tqdm>=4.27 in /Users/pranavmanjunath/opt/anaconda3/lib/python3.7/site-packages (from transformers) (4.36.1)\n",
            "Requirement already satisfied: protobuf in /Users/pranavmanjunath/opt/anaconda3/lib/python3.7/site-packages (from transformers) (3.11.3)\n",
            "Collecting sentencepiece!=0.1.92 (from transformers)\n",
            "\u001b[?25l  Downloading https://files.pythonhosted.org/packages/65/c0/dd3945db3ff6e8b3823aba4c09a86dbf174ca8fec09104466f076230e9fa/sentencepiece-0.1.94-cp37-cp37m-macosx_10_6_x86_64.whl (1.1MB)\n",
            "\u001b[K     |████████████████████████████████| 1.1MB 8.8MB/s eta 0:00:01\n",
            "\u001b[?25hRequirement already satisfied: numpy in /Users/pranavmanjunath/opt/anaconda3/lib/python3.7/site-packages (from transformers) (1.17.2)\n",
            "Requirement already satisfied: requests in /Users/pranavmanjunath/opt/anaconda3/lib/python3.7/site-packages (from transformers) (2.20.1)\n",
            "Requirement already satisfied: six in /Users/pranavmanjunath/opt/anaconda3/lib/python3.7/site-packages (from sacremoses->transformers) (1.11.0)\n",
            "Requirement already satisfied: click in /Users/pranavmanjunath/opt/anaconda3/lib/python3.7/site-packages (from sacremoses->transformers) (7.0)\n",
            "Requirement already satisfied: joblib in /Users/pranavmanjunath/opt/anaconda3/lib/python3.7/site-packages (from sacremoses->transformers) (0.13.2)\n",
            "Requirement already satisfied: pyparsing>=2.0.2 in /Users/pranavmanjunath/opt/anaconda3/lib/python3.7/site-packages (from packaging->transformers) (2.4.2)\n",
            "Requirement already satisfied: setuptools in /Users/pranavmanjunath/opt/anaconda3/lib/python3.7/site-packages (from protobuf->transformers) (41.4.0)\n",
            "Requirement already satisfied: idna<2.8,>=2.5 in /Users/pranavmanjunath/opt/anaconda3/lib/python3.7/site-packages (from requests->transformers) (2.7)\n",
            "Requirement already satisfied: chardet<3.1.0,>=3.0.2 in /Users/pranavmanjunath/opt/anaconda3/lib/python3.7/site-packages (from requests->transformers) (3.0.4)\n",
            "Requirement already satisfied: urllib3<1.25,>=1.21.1 in /Users/pranavmanjunath/opt/anaconda3/lib/python3.7/site-packages (from requests->transformers) (1.24.3)\n",
            "Requirement already satisfied: certifi>=2017.4.17 in /Users/pranavmanjunath/opt/anaconda3/lib/python3.7/site-packages (from requests->transformers) (2019.9.11)\n",
            "Building wheels for collected packages: sacremoses, regex\n",
            "  Building wheel for sacremoses (setup.py) ... \u001b[?25ldone\n",
            "\u001b[?25h  Created wheel for sacremoses: filename=sacremoses-0.0.43-cp37-none-any.whl size=893261 sha256=ddb270a78fbe3f86336e618effc971578d60fcede112da5464584822a8459ba5\n",
            "  Stored in directory: /Users/pranavmanjunath/Library/Caches/pip/wheels/29/3c/fd/7ce5c3f0666dab31a50123635e6fb5e19ceb42ce38d4e58f45\n",
            "  Building wheel for regex (setup.py) ... \u001b[?25ldone\n",
            "\u001b[?25h  Created wheel for regex: filename=regex-2020.10.28-cp37-cp37m-macosx_10_9_x86_64.whl size=272387 sha256=c8d197fa73cbd79b999296286717af181fede39f3af52847fef393110f38d27e\n",
            "  Stored in directory: /Users/pranavmanjunath/Library/Caches/pip/wheels/16/32/f2/87817e06026bddd4f4f63c497c1c9587c028bdf57485e52e0f\n",
            "Successfully built sacremoses regex\n",
            "Installing collected packages: regex, sacremoses, tokenizers, sentencepiece, transformers\n",
            "Successfully installed regex-2020.10.28 sacremoses-0.0.43 sentencepiece-0.1.94 tokenizers-0.9.2 transformers-3.4.0\n"
          ],
          "name": "stdout"
        }
      ]
    },
    {
      "cell_type": "code",
      "metadata": {
        "id": "ESZoRtZEYkjH",
        "outputId": "063d8c60-f655-4427-eb4f-c0f2bbf0881b"
      },
      "source": [
        "!pip3 install --user --upgrade tensorflow  # install in $HOME"
      ],
      "execution_count": null,
      "outputs": [
        {
          "output_type": "stream",
          "text": [
            "Requirement already up-to-date: tensorflow in /Users/pranavmanjunath/Library/Python/3.8/lib/python/site-packages (2.3.1)\n",
            "Requirement already satisfied, skipping upgrade: numpy<1.19.0,>=1.16.0 in /Users/pranavmanjunath/Library/Python/3.8/lib/python/site-packages (from tensorflow) (1.18.5)\n",
            "Requirement already satisfied, skipping upgrade: wheel>=0.26 in /Applications/Xcode.app/Contents/Developer/Library/Frameworks/Python3.framework/Versions/3.8/lib/python3.8/site-packages (from tensorflow) (0.33.1)\n",
            "Requirement already satisfied, skipping upgrade: opt-einsum>=2.3.2 in /Users/pranavmanjunath/Library/Python/3.8/lib/python/site-packages (from tensorflow) (3.3.0)\n",
            "Requirement already satisfied, skipping upgrade: six>=1.12.0 in /Applications/Xcode.app/Contents/Developer/Library/Frameworks/Python3.framework/Versions/3.8/lib/python3.8/site-packages (from tensorflow) (1.15.0)\n",
            "Requirement already satisfied, skipping upgrade: gast==0.3.3 in /Users/pranavmanjunath/Library/Python/3.8/lib/python/site-packages (from tensorflow) (0.3.3)\n",
            "Requirement already satisfied, skipping upgrade: tensorboard<3,>=2.3.0 in /Users/pranavmanjunath/Library/Python/3.8/lib/python/site-packages (from tensorflow) (2.3.0)\n",
            "Requirement already satisfied, skipping upgrade: wrapt>=1.11.1 in /Users/pranavmanjunath/Library/Python/3.8/lib/python/site-packages (from tensorflow) (1.12.1)\n",
            "Requirement already satisfied, skipping upgrade: grpcio>=1.8.6 in /Users/pranavmanjunath/Library/Python/3.8/lib/python/site-packages (from tensorflow) (1.33.2)\n",
            "Requirement already satisfied, skipping upgrade: absl-py>=0.7.0 in /Users/pranavmanjunath/Library/Python/3.8/lib/python/site-packages (from tensorflow) (0.11.0)\n",
            "Requirement already satisfied, skipping upgrade: google-pasta>=0.1.8 in /Users/pranavmanjunath/Library/Python/3.8/lib/python/site-packages (from tensorflow) (0.2.0)\n",
            "Requirement already satisfied, skipping upgrade: tensorflow-estimator<2.4.0,>=2.3.0 in /Users/pranavmanjunath/Library/Python/3.8/lib/python/site-packages (from tensorflow) (2.3.0)\n",
            "Requirement already satisfied, skipping upgrade: termcolor>=1.1.0 in /Users/pranavmanjunath/Library/Python/3.8/lib/python/site-packages (from tensorflow) (1.1.0)\n",
            "Requirement already satisfied, skipping upgrade: protobuf>=3.9.2 in /Users/pranavmanjunath/Library/Python/3.8/lib/python/site-packages (from tensorflow) (3.13.0)\n",
            "Requirement already satisfied, skipping upgrade: keras-preprocessing<1.2,>=1.1.1 in /Users/pranavmanjunath/Library/Python/3.8/lib/python/site-packages (from tensorflow) (1.1.2)\n",
            "Requirement already satisfied, skipping upgrade: h5py<2.11.0,>=2.10.0 in /Users/pranavmanjunath/Library/Python/3.8/lib/python/site-packages (from tensorflow) (2.10.0)\n",
            "Requirement already satisfied, skipping upgrade: astunparse==1.6.3 in /Users/pranavmanjunath/Library/Python/3.8/lib/python/site-packages (from tensorflow) (1.6.3)\n",
            "Requirement already satisfied, skipping upgrade: werkzeug>=0.11.15 in /Users/pranavmanjunath/Library/Python/3.8/lib/python/site-packages (from tensorboard<3,>=2.3.0->tensorflow) (1.0.1)\n",
            "Requirement already satisfied, skipping upgrade: markdown>=2.6.8 in /Users/pranavmanjunath/Library/Python/3.8/lib/python/site-packages (from tensorboard<3,>=2.3.0->tensorflow) (3.3.3)\n",
            "Requirement already satisfied, skipping upgrade: google-auth<2,>=1.6.3 in /Users/pranavmanjunath/Library/Python/3.8/lib/python/site-packages (from tensorboard<3,>=2.3.0->tensorflow) (1.23.0)\n",
            "Requirement already satisfied, skipping upgrade: setuptools>=41.0.0 in /Applications/Xcode.app/Contents/Developer/Library/Frameworks/Python3.framework/Versions/3.8/lib/python3.8/site-packages (from tensorboard<3,>=2.3.0->tensorflow) (41.2.0)\n",
            "Requirement already satisfied, skipping upgrade: tensorboard-plugin-wit>=1.6.0 in /Users/pranavmanjunath/Library/Python/3.8/lib/python/site-packages (from tensorboard<3,>=2.3.0->tensorflow) (1.7.0)\n",
            "Requirement already satisfied, skipping upgrade: requests<3,>=2.21.0 in /Users/pranavmanjunath/Library/Python/3.8/lib/python/site-packages (from tensorboard<3,>=2.3.0->tensorflow) (2.24.0)\n",
            "Requirement already satisfied, skipping upgrade: google-auth-oauthlib<0.5,>=0.4.1 in /Users/pranavmanjunath/Library/Python/3.8/lib/python/site-packages (from tensorboard<3,>=2.3.0->tensorflow) (0.4.2)\n",
            "Requirement already satisfied, skipping upgrade: cachetools<5.0,>=2.0.0 in /Users/pranavmanjunath/Library/Python/3.8/lib/python/site-packages (from google-auth<2,>=1.6.3->tensorboard<3,>=2.3.0->tensorflow) (4.1.1)\n",
            "Requirement already satisfied, skipping upgrade: pyasn1-modules>=0.2.1 in /Users/pranavmanjunath/Library/Python/3.8/lib/python/site-packages (from google-auth<2,>=1.6.3->tensorboard<3,>=2.3.0->tensorflow) (0.2.8)\n",
            "Requirement already satisfied, skipping upgrade: rsa<5,>=3.1.4; python_version >= \"3.5\" in /Users/pranavmanjunath/Library/Python/3.8/lib/python/site-packages (from google-auth<2,>=1.6.3->tensorboard<3,>=2.3.0->tensorflow) (4.6)\n",
            "Requirement already satisfied, skipping upgrade: idna<3,>=2.5 in /Users/pranavmanjunath/Library/Python/3.8/lib/python/site-packages (from requests<3,>=2.21.0->tensorboard<3,>=2.3.0->tensorflow) (2.10)\n",
            "Requirement already satisfied, skipping upgrade: urllib3!=1.25.0,!=1.25.1,<1.26,>=1.21.1 in /Users/pranavmanjunath/Library/Python/3.8/lib/python/site-packages (from requests<3,>=2.21.0->tensorboard<3,>=2.3.0->tensorflow) (1.25.11)\n",
            "Requirement already satisfied, skipping upgrade: certifi>=2017.4.17 in /Users/pranavmanjunath/Library/Python/3.8/lib/python/site-packages (from requests<3,>=2.21.0->tensorboard<3,>=2.3.0->tensorflow) (2020.6.20)\n",
            "Requirement already satisfied, skipping upgrade: chardet<4,>=3.0.2 in /Users/pranavmanjunath/Library/Python/3.8/lib/python/site-packages (from requests<3,>=2.21.0->tensorboard<3,>=2.3.0->tensorflow) (3.0.4)\n",
            "Requirement already satisfied, skipping upgrade: requests-oauthlib>=0.7.0 in /Users/pranavmanjunath/Library/Python/3.8/lib/python/site-packages (from google-auth-oauthlib<0.5,>=0.4.1->tensorboard<3,>=2.3.0->tensorflow) (1.3.0)\n",
            "Requirement already satisfied, skipping upgrade: pyasn1<0.5.0,>=0.4.6 in /Users/pranavmanjunath/Library/Python/3.8/lib/python/site-packages (from pyasn1-modules>=0.2.1->google-auth<2,>=1.6.3->tensorboard<3,>=2.3.0->tensorflow) (0.4.8)\n",
            "Requirement already satisfied, skipping upgrade: oauthlib>=3.0.0 in /Users/pranavmanjunath/Library/Python/3.8/lib/python/site-packages (from requests-oauthlib>=0.7.0->google-auth-oauthlib<0.5,>=0.4.1->tensorboard<3,>=2.3.0->tensorflow) (3.1.0)\n",
            "\u001b[33mWARNING: You are using pip version 19.2.3, however version 20.2.4 is available.\n",
            "You should consider upgrading via the 'pip install --upgrade pip' command.\u001b[0m\n"
          ],
          "name": "stdout"
        }
      ]
    },
    {
      "cell_type": "code",
      "metadata": {
        "id": "FrmRe-KZYkjI",
        "outputId": "b78001ee-d44e-4310-a102-915b7265e31d"
      },
      "source": [
        "import tensorflow\n",
        "from transformers import BertTokenizer\n",
        "from torch.utils.data import TensorDataset"
      ],
      "execution_count": null,
      "outputs": [
        {
          "output_type": "error",
          "ename": "AttributeError",
          "evalue": "module 'tensorflow_core.keras.activations' has no attribute 'swish'",
          "traceback": [
            "\u001b[0;31m---------------------------------------------------------------------------\u001b[0m",
            "\u001b[0;31mAttributeError\u001b[0m                            Traceback (most recent call last)",
            "\u001b[0;32m<ipython-input-34-f71149260550>\u001b[0m in \u001b[0;36m<module>\u001b[0;34m\u001b[0m\n\u001b[1;32m      1\u001b[0m \u001b[0;32mimport\u001b[0m \u001b[0mtensorflow\u001b[0m\u001b[0;34m\u001b[0m\u001b[0;34m\u001b[0m\u001b[0m\n\u001b[0;32m----> 2\u001b[0;31m \u001b[0;32mfrom\u001b[0m \u001b[0mtransformers\u001b[0m \u001b[0;32mimport\u001b[0m \u001b[0mBertTokenizer\u001b[0m\u001b[0;34m\u001b[0m\u001b[0;34m\u001b[0m\u001b[0m\n\u001b[0m\u001b[1;32m      3\u001b[0m \u001b[0;32mfrom\u001b[0m \u001b[0mtorch\u001b[0m\u001b[0;34m.\u001b[0m\u001b[0mutils\u001b[0m\u001b[0;34m.\u001b[0m\u001b[0mdata\u001b[0m \u001b[0;32mimport\u001b[0m \u001b[0mTensorDataset\u001b[0m\u001b[0;34m\u001b[0m\u001b[0;34m\u001b[0m\u001b[0m\n",
            "\u001b[0;32m~/opt/anaconda3/lib/python3.7/site-packages/transformers/__init__.py\u001b[0m in \u001b[0;36m<module>\u001b[0;34m\u001b[0m\n\u001b[1;32m    133\u001b[0m \u001b[0;34m\u001b[0m\u001b[0m\n\u001b[1;32m    134\u001b[0m \u001b[0;31m# Pipelines\u001b[0m\u001b[0;34m\u001b[0m\u001b[0;34m\u001b[0m\u001b[0;34m\u001b[0m\u001b[0m\n\u001b[0;32m--> 135\u001b[0;31m from .pipelines import (\n\u001b[0m\u001b[1;32m    136\u001b[0m     \u001b[0mConversation\u001b[0m\u001b[0;34m,\u001b[0m\u001b[0;34m\u001b[0m\u001b[0;34m\u001b[0m\u001b[0m\n\u001b[1;32m    137\u001b[0m     \u001b[0mConversationalPipeline\u001b[0m\u001b[0;34m,\u001b[0m\u001b[0;34m\u001b[0m\u001b[0;34m\u001b[0m\u001b[0m\n",
            "\u001b[0;32m~/opt/anaconda3/lib/python3.7/site-packages/transformers/pipelines.py\u001b[0m in \u001b[0;36m<module>\u001b[0;34m\u001b[0m\n\u001b[1;32m     45\u001b[0m     \u001b[0;32mimport\u001b[0m \u001b[0mtensorflow\u001b[0m \u001b[0;32mas\u001b[0m \u001b[0mtf\u001b[0m\u001b[0;34m\u001b[0m\u001b[0;34m\u001b[0m\u001b[0m\n\u001b[1;32m     46\u001b[0m \u001b[0;34m\u001b[0m\u001b[0m\n\u001b[0;32m---> 47\u001b[0;31m     from .modeling_tf_auto import (\n\u001b[0m\u001b[1;32m     48\u001b[0m         \u001b[0mTF_MODEL_FOR_QUESTION_ANSWERING_MAPPING\u001b[0m\u001b[0;34m,\u001b[0m\u001b[0;34m\u001b[0m\u001b[0;34m\u001b[0m\u001b[0m\n\u001b[1;32m     49\u001b[0m         \u001b[0mTF_MODEL_FOR_SEQ_TO_SEQ_CAUSAL_LM_MAPPING\u001b[0m\u001b[0;34m,\u001b[0m\u001b[0;34m\u001b[0m\u001b[0;34m\u001b[0m\u001b[0m\n",
            "\u001b[0;32m~/opt/anaconda3/lib/python3.7/site-packages/transformers/modeling_tf_auto.py\u001b[0m in \u001b[0;36m<module>\u001b[0;34m\u001b[0m\n\u001b[1;32m     43\u001b[0m \u001b[0;32mfrom\u001b[0m \u001b[0;34m.\u001b[0m\u001b[0mconfiguration_utils\u001b[0m \u001b[0;32mimport\u001b[0m \u001b[0mPretrainedConfig\u001b[0m\u001b[0;34m\u001b[0m\u001b[0;34m\u001b[0m\u001b[0m\n\u001b[1;32m     44\u001b[0m \u001b[0;32mfrom\u001b[0m \u001b[0;34m.\u001b[0m\u001b[0mfile_utils\u001b[0m \u001b[0;32mimport\u001b[0m \u001b[0madd_start_docstrings\u001b[0m\u001b[0;34m\u001b[0m\u001b[0;34m\u001b[0m\u001b[0m\n\u001b[0;32m---> 45\u001b[0;31m from .modeling_tf_albert import (\n\u001b[0m\u001b[1;32m     46\u001b[0m     \u001b[0mTFAlbertForMaskedLM\u001b[0m\u001b[0;34m,\u001b[0m\u001b[0;34m\u001b[0m\u001b[0;34m\u001b[0m\u001b[0m\n\u001b[1;32m     47\u001b[0m     \u001b[0mTFAlbertForMultipleChoice\u001b[0m\u001b[0;34m,\u001b[0m\u001b[0;34m\u001b[0m\u001b[0;34m\u001b[0m\u001b[0m\n",
            "\u001b[0;32m~/opt/anaconda3/lib/python3.7/site-packages/transformers/modeling_tf_albert.py\u001b[0m in \u001b[0;36m<module>\u001b[0;34m\u001b[0m\n\u001b[1;32m     22\u001b[0m \u001b[0;32mimport\u001b[0m \u001b[0mtensorflow\u001b[0m \u001b[0;32mas\u001b[0m \u001b[0mtf\u001b[0m\u001b[0;34m\u001b[0m\u001b[0;34m\u001b[0m\u001b[0m\n\u001b[1;32m     23\u001b[0m \u001b[0;34m\u001b[0m\u001b[0m\n\u001b[0;32m---> 24\u001b[0;31m \u001b[0;32mfrom\u001b[0m \u001b[0;34m.\u001b[0m\u001b[0mactivations_tf\u001b[0m \u001b[0;32mimport\u001b[0m \u001b[0mget_tf_activation\u001b[0m\u001b[0;34m\u001b[0m\u001b[0;34m\u001b[0m\u001b[0m\n\u001b[0m\u001b[1;32m     25\u001b[0m \u001b[0;32mfrom\u001b[0m \u001b[0;34m.\u001b[0m\u001b[0mconfiguration_albert\u001b[0m \u001b[0;32mimport\u001b[0m \u001b[0mAlbertConfig\u001b[0m\u001b[0;34m\u001b[0m\u001b[0;34m\u001b[0m\u001b[0m\n\u001b[1;32m     26\u001b[0m from .file_utils import (\n",
            "\u001b[0;32m~/opt/anaconda3/lib/python3.7/site-packages/transformers/activations_tf.py\u001b[0m in \u001b[0;36m<module>\u001b[0;34m\u001b[0m\n\u001b[1;32m     51\u001b[0m     \u001b[0;34m\"gelu\"\u001b[0m\u001b[0;34m:\u001b[0m \u001b[0mtf\u001b[0m\u001b[0;34m.\u001b[0m\u001b[0mkeras\u001b[0m\u001b[0;34m.\u001b[0m\u001b[0mlayers\u001b[0m\u001b[0;34m.\u001b[0m\u001b[0mActivation\u001b[0m\u001b[0;34m(\u001b[0m\u001b[0mgelu\u001b[0m\u001b[0;34m)\u001b[0m\u001b[0;34m,\u001b[0m\u001b[0;34m\u001b[0m\u001b[0;34m\u001b[0m\u001b[0m\n\u001b[1;32m     52\u001b[0m     \u001b[0;34m\"relu\"\u001b[0m\u001b[0;34m:\u001b[0m \u001b[0mtf\u001b[0m\u001b[0;34m.\u001b[0m\u001b[0mkeras\u001b[0m\u001b[0;34m.\u001b[0m\u001b[0mactivations\u001b[0m\u001b[0;34m.\u001b[0m\u001b[0mrelu\u001b[0m\u001b[0;34m,\u001b[0m\u001b[0;34m\u001b[0m\u001b[0;34m\u001b[0m\u001b[0m\n\u001b[0;32m---> 53\u001b[0;31m     \u001b[0;34m\"swish\"\u001b[0m\u001b[0;34m:\u001b[0m \u001b[0mtf\u001b[0m\u001b[0;34m.\u001b[0m\u001b[0mkeras\u001b[0m\u001b[0;34m.\u001b[0m\u001b[0mactivations\u001b[0m\u001b[0;34m.\u001b[0m\u001b[0mswish\u001b[0m\u001b[0;34m,\u001b[0m\u001b[0;34m\u001b[0m\u001b[0;34m\u001b[0m\u001b[0m\n\u001b[0m\u001b[1;32m     54\u001b[0m     \u001b[0;34m\"gelu_new\"\u001b[0m\u001b[0;34m:\u001b[0m \u001b[0mtf\u001b[0m\u001b[0;34m.\u001b[0m\u001b[0mkeras\u001b[0m\u001b[0;34m.\u001b[0m\u001b[0mlayers\u001b[0m\u001b[0;34m.\u001b[0m\u001b[0mActivation\u001b[0m\u001b[0;34m(\u001b[0m\u001b[0mgelu_new\u001b[0m\u001b[0;34m)\u001b[0m\u001b[0;34m,\u001b[0m\u001b[0;34m\u001b[0m\u001b[0;34m\u001b[0m\u001b[0m\n\u001b[1;32m     55\u001b[0m     \u001b[0;34m\"mish\"\u001b[0m\u001b[0;34m:\u001b[0m \u001b[0mtf\u001b[0m\u001b[0;34m.\u001b[0m\u001b[0mkeras\u001b[0m\u001b[0;34m.\u001b[0m\u001b[0mlayers\u001b[0m\u001b[0;34m.\u001b[0m\u001b[0mActivation\u001b[0m\u001b[0;34m(\u001b[0m\u001b[0mmish\u001b[0m\u001b[0;34m)\u001b[0m\u001b[0;34m,\u001b[0m\u001b[0;34m\u001b[0m\u001b[0;34m\u001b[0m\u001b[0m\n",
            "\u001b[0;31mAttributeError\u001b[0m: module 'tensorflow_core.keras.activations' has no attribute 'swish'"
          ]
        }
      ]
    },
    {
      "cell_type": "code",
      "metadata": {
        "id": "2YAfXDbfYkjK",
        "outputId": "b80314fb-3e04-420a-a36d-f6c26d3abfbe"
      },
      "source": [
        "tensorflow.version"
      ],
      "execution_count": null,
      "outputs": [
        {
          "output_type": "execute_result",
          "data": {
            "text/plain": [
              "<module 'tensorflow_core._api.v2.version' from '/Users/pranavmanjunath/opt/anaconda3/lib/python3.7/site-packages/tensorflow_core/_api/v2/version/__init__.py'>"
            ]
          },
          "metadata": {
            "tags": []
          },
          "execution_count": 37
        }
      ]
    },
    {
      "cell_type": "code",
      "metadata": {
        "id": "mD-IMVMoYkjL"
      },
      "source": [
        ""
      ],
      "execution_count": null,
      "outputs": []
    }
  ]
}